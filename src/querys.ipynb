{
 "cells": [
  {
   "cell_type": "raw",
   "id": "0b083127",
   "metadata": {},
   "source": [
    "-- 1. obtener el nombre de todas las películas ordenadas alfabéticamente\n",
    "\n",
    "SELECT title FROM pelicula ORDER BY title ASC;"
   ]
  },
  {
   "cell_type": "raw",
   "id": "9eed5591",
   "metadata": {},
   "source": [
    "-- 2. obtener el nombre de todos los actores que hayan actuado en al menos una película\n",
    "\n",
    "SELECT DISTINCT CONCAT(first_name, ' ', last_name) AS nombre_completo \n",
    "FROM actor \n",
    "WHERE actor_id IN (SELECT actor_id FROM inventario);"
   ]
  },
  {
   "cell_type": "raw",
   "id": "01db0e77",
   "metadata": {},
   "source": [
    "-- 3. obtener la cantidad de alquileres que se han realizado en total:\n",
    "\n",
    "SELECT COUNT(*) FROM alquiler;\n"
   ]
  },
  {
   "cell_type": "raw",
   "id": "9005bb0d",
   "metadata": {},
   "source": [
    "-- 4. Obtener el numero de veces que la gente ha alquilado películas de la categoría Drama\n",
    "\n",
    "SELECT pelicula.title, COUNT(alquiler.rental_id) AS num_alquileres \n",
    "FROM pelicula\n",
    "JOIN categoria ON pelicula.category_id = categoria.category_id\n",
    "JOIN inventario ON pelicula.film_id = inventario.film_id\n",
    "JOIN alquiler ON inventario.inventory_id = alquiler.inventory_id\n",
    "WHERE categoria.name = 'Drama'\n",
    "GROUP BY pelicula.title\n",
    "ORDER BY num_alquileres DESC;"
   ]
  },
  {
   "cell_type": "raw",
   "id": "00a58dc0",
   "metadata": {},
   "source": [
    "-- 5. obtener las películas que pertenecen a la categoría \"Acción\"\n",
    "\n",
    "SELECT title FROM pelicula\n",
    "JOIN categoria ON pelicula.category_id = categoria.category_id\n",
    "WHERE categoria.name = 'Action';"
   ]
  },
  {
   "cell_type": "raw",
   "id": "2d8838ac",
   "metadata": {},
   "source": [
    "-- 6. Obtener el nombre y la cantidad de películas de todas las categorías, ordenadas por cantidad descendente:\n",
    "\n",
    "SELECT categoria.name, COUNT(pelicula.film_id) AS cantidad FROM categoria\n",
    "JOIN pelicula ON pelicula.category_id = categoria.category_id\n",
    "GROUP BY categoria.name\n",
    "ORDER BY cantidad DESC;"
   ]
  },
  {
   "cell_type": "raw",
   "id": "6a267bb6",
   "metadata": {},
   "source": [
    "-- 7. nombre y número de veces que ha sido alquilada una película\n",
    "\n",
    "SELECT pelicula.title, COUNT(alquiler.rental_id) AS num_alquileres \n",
    "FROM pelicula\n",
    "JOIN inventario ON pelicula.film_id = inventario.film_id\n",
    "JOIN alquiler ON inventario.inventory_id = alquiler.inventory_id\n",
    "GROUP BY pelicula.title;"
   ]
  },
  {
   "cell_type": "raw",
   "id": "9d3b50b0",
   "metadata": {},
   "source": [
    "-- 8. Obtener la fecha en la que se realizó el primer alquiler de una película\n",
    "\n",
    "SELECT película.título, MIN(alquiler.fecha_alquiler) AS fecha_primer_alquiler FROM película\n",
    "JOIN inventario ON película.película_id = inventario.película_id\n",
    "JOIN alquiler ON inventario.inventario_id = alquiler.inventario_id\n",
    "GROUP BY película.título\n",
    "ORDER BY fecha_primer_alquiler ASC;\n"
   ]
  },
  {
   "cell_type": "raw",
   "id": "e80a58db",
   "metadata": {},
   "source": [
    "-- 9. Obtener la cantidad de alquileres que se realizaron en cada mes del año 2005:\n",
    "    \n",
    "SELECT MONTH(rental_date) AS mes, COUNT(*) AS cantidad FROM alquiler\n",
    "WHERE YEAR(rental_date) = 2005\n",
    "GROUP BY mes;"
   ]
  },
  {
   "cell_type": "code",
   "execution_count": null,
   "id": "80b34eab",
   "metadata": {},
   "outputs": [],
   "source": [
    "-- 10. -- 10. Obtener el título y la descripción de todas las películas que contienen la palabra \"astronaut\" en su descripción:\n",
    "    \n",
    "SELECT title, description FROM pelicula\n",
    "WHERE description LIKE '%astronaut%';"
   ]
  }
 ],
 "metadata": {
  "kernelspec": {
   "display_name": "Python 3 (ipykernel)",
   "language": "python",
   "name": "python3"
  },
  "language_info": {
   "codemirror_mode": {
    "name": "ipython",
    "version": 3
   },
   "file_extension": ".py",
   "mimetype": "text/x-python",
   "name": "python",
   "nbconvert_exporter": "python",
   "pygments_lexer": "ipython3",
   "version": "3.9.13"
  }
 },
 "nbformat": 4,
 "nbformat_minor": 5
}
